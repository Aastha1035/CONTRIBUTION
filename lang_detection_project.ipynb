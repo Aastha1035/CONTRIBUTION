{
  "nbformat": 4,
  "nbformat_minor": 0,
  "metadata": {
    "colab": {
      "provenance": []
    },
    "kernelspec": {
      "name": "python3",
      "display_name": "Python 3"
    },
    "language_info": {
      "name": "python"
    }
  },
  "cells": [
    {
      "cell_type": "code",
      "execution_count": null,
      "metadata": {
        "id": "vMdWmv8DxVDS"
      },
      "outputs": [],
      "source": [
        "import pandas as pd\n",
        "import numpy as np\n",
        "from sklearn.model_selection import train_test_split\n",
        "from sklearn.feature_extraction.text import CountVectorizer, TfidfTransformer\n",
        "\n",
        "#Data Loading from 'Kaggle'\n",
        "df = pd.read_csv('/language dataset.zip')\n",
        "\n",
        "df.head(15)"
      ]
    },
    {
      "cell_type": "code",
      "source": [
        "df[\"language\"].value_counts()"
      ],
      "metadata": {
        "id": "7J1-YO2Zxh1x"
      },
      "execution_count": null,
      "outputs": []
    },
    {
      "cell_type": "code",
      "source": [
        "df[\"Text\"].value_counts()"
      ],
      "metadata": {
        "id": "InL2eFZzxl2c"
      },
      "execution_count": null,
      "outputs": []
    },
    {
      "cell_type": "code",
      "source": [
        "from sklearn.linear_model import RidgeClassifier #RidgeClassifier\n",
        "\n",
        "#Data Preprocessing\n",
        "X_train, X_test, y_train, y_test = train_test_split(df.Text, \n",
        "                                                    df.language,\n",
        "                                                    test_size=0.325000000000000001,\n",
        "                                                    random_state=2551,\n",
        "                                                    shuffle=True)\n",
        "#NLP system entegration to Data    \n",
        "X_CountVectorizer = CountVectorizer(stop_words='english')\n",
        "\n",
        "X_train_counts = X_CountVectorizer.fit_transform(X_train)\n",
        "\n",
        "X_TfidfTransformer = TfidfTransformer()\n",
        "\n",
        "X_train_tfidf = X_TfidfTransformer.fit_transform(X_train_counts)\n",
        "\n",
        "#Model Creating\n",
        "model = RidgeClassifier()\n",
        "\n",
        "model.fit(X_train_tfidf, y_train)"
      ],
      "metadata": {
        "id": "nNU7K5FuxsZi"
      },
      "execution_count": null,
      "outputs": []
    },
    {
      "cell_type": "code",
      "source": [
        "model.score(X_CountVectorizer.transform(X_test),y_test)"
      ],
      "metadata": {
        "id": "L5YrodVOxw-4"
      },
      "execution_count": null,
      "outputs": []
    },
    {
      "cell_type": "code",
      "source": [
        "text = \"\"\"I quite like him. \n",
        "I'm so in love with him and my heart flutters when I see him.\"\"\"\n",
        "\n",
        "text = [text]\n",
        "\n",
        "text_counts = X_CountVectorizer.transform(text)\n",
        "\n",
        "#Prediction Processing\n",
        "prediction = model.predict(text_counts)\n",
        "\n",
        "f\"Prediction is {prediction[0]}\""
      ],
      "metadata": {
        "id": "ZvxKYDFtx1ZJ"
      },
      "execution_count": null,
      "outputs": []
    },
    {
      "cell_type": "code",
      "source": [
        "text = \"\"\"Kas siis selle maa keel\"\"\"\n",
        "\n",
        "text = [text]\n",
        "\n",
        "text_counts = X_CountVectorizer.transform(text)\n",
        "\n",
        "#Prediction Processing\n",
        "prediction = model.predict(text_counts)\n",
        "\n",
        "f\"Prediction is {prediction[0]}\""
      ],
      "metadata": {
        "id": "CTmG3Ij9x-CE"
      },
      "execution_count": null,
      "outputs": []
    }
  ]
}